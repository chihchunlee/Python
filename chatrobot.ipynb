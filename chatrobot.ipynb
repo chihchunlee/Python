{
 "cells": [
  {
   "cell_type": "code",
   "execution_count": 17,
   "metadata": {},
   "outputs": [
    {
     "name": "stdout",
     "output_type": "stream",
     "text": [
      "Hello ! I am pineo ! I am a chatRobot.\n",
      "I like animail and food.\n",
      "What is your name ?c c\n",
      "Hi c c Nice to meet you !\n",
      "I can not remeber date.How many years is this year ?2020\n",
      "Yes,It is alright.Thanks!\n",
      "Can you guess my age ?26\n",
      "Yes,You are right,I am 26\n",
      "I am 100 after 74 years\n",
      "That is 2094\n",
      "I like eat chocolate and many delicious foods\n",
      "and you ?What is your favorite foods ?apple\n",
      "I like too apple\n",
      "How often do you eatapple?1\n"
     ]
    },
    {
     "ename": "NameError",
     "evalue": "name 'ptin' is not defined",
     "output_type": "error",
     "traceback": [
      "\u001b[1;31m---------------------------------------------------------------------------\u001b[0m",
      "\u001b[1;31mNameError\u001b[0m                                 Traceback (most recent call last)",
      "\u001b[1;32m<ipython-input-17-b68bea61b922>\u001b[0m in \u001b[0;36m<module>\u001b[1;34m\u001b[0m\n\u001b[0;32m     15\u001b[0m \u001b[0mquestion\u001b[0m \u001b[1;33m=\u001b[0m \u001b[1;34m'How often do you eat'\u001b[0m\u001b[1;33m+\u001b[0m\u001b[0mfood\u001b[0m\u001b[1;33m+\u001b[0m\u001b[1;34m'?'\u001b[0m\u001b[1;33m\u001b[0m\u001b[1;33m\u001b[0m\u001b[0m\n\u001b[0;32m     16\u001b[0m \u001b[0mhowoften\u001b[0m \u001b[1;33m=\u001b[0m \u001b[0minput\u001b[0m\u001b[1;33m(\u001b[0m\u001b[0mquestion\u001b[0m\u001b[1;33m)\u001b[0m\u001b[1;33m\u001b[0m\u001b[1;33m\u001b[0m\u001b[0m\n\u001b[1;32m---> 17\u001b[1;33m \u001b[0mptin\u001b[0m\u001b[1;33m(\u001b[0m\u001b[1;34m'That is fun !'\u001b[0m\u001b[1;33m)\u001b[0m\u001b[1;33m\u001b[0m\u001b[1;33m\u001b[0m\u001b[0m\n\u001b[0m",
      "\u001b[1;31mNameError\u001b[0m: name 'ptin' is not defined"
     ]
    }
   ],
   "source": [
    "print('Hello ! I am pineo ! I am a chatRobot.\\nI like animal and food.')\n",
    "name = input('What is your name ?')\n",
    "print('Hi',name,'Nice to meet you !')\n",
    "year = input('I can not remeber date.How many years is this year ?')\n",
    "print('Yes,It is alright.Thanks!')\n",
    "myage = input('Can you guess my age ?')\n",
    "print('Yes,You are right,I am',myage)\n",
    "myage = int(myage)\n",
    "nyears = 100 - myage\n",
    "print('I am 100 after',nyears,'years')\n",
    "print('That is',int(year)+nyears)\n",
    "print('I like eat chocolate and many delicious foods')\n",
    "food = input('and you ? What is your favorite foods ?')\n",
    "print('I like too',food)\n",
    "question = 'How often do you eat'+food+'?'\n",
    "howoften = input(question)\n",
    "print('That is fun !')\n",
    "animal"
   ]
  },
  {
   "cell_type": "code",
   "execution_count": null,
   "metadata": {},
   "outputs": [],
   "source": []
  }
 ],
 "metadata": {
  "kernelspec": {
   "display_name": "Python 3",
   "language": "python",
   "name": "python3"
  },
  "language_info": {
   "codemirror_mode": {
    "name": "ipython",
    "version": 3
   },
   "file_extension": ".py",
   "mimetype": "text/x-python",
   "name": "python",
   "nbconvert_exporter": "python",
   "pygments_lexer": "ipython3",
   "version": "3.8.5"
  }
 },
 "nbformat": 4,
 "nbformat_minor": 4
}
