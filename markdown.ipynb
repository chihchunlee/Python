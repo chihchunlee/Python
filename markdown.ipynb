{
 "cells": [
  {
   "cell_type": "markdown",
   "metadata": {},
   "source": [
    "this is markdown part\n",
    "# this is heading level1 \n",
    "## this is heading level2\n",
    "### this is heading level3"
   ]
  },
  {
   "cell_type": "markdown",
   "metadata": {},
   "source": [
    "- First item\n",
    "- Second item\n",
    "- Third item\n",
    "- Fourth item"
   ]
  },
  {
   "cell_type": "markdown",
   "metadata": {},
   "source": [
    "- First item\n",
    "- Second item\n",
    "- Third item\n",
    "    - Indented item\n",
    "    - Indented item\n",
    "- Fourth item"
   ]
  },
  {
   "cell_type": "markdown",
   "metadata": {},
   "source": [
    "*   This is the first list item.\n",
    "*   Here's the second list item.\n",
    "\n",
    "    > A blockquote would look great below the second list item.\n",
    "\n",
    "*   And here's the third list item."
   ]
  },
  {
   "cell_type": "markdown",
   "metadata": {},
   "source": [
    "![my image](./download.jpg)"
   ]
  },
  {
   "cell_type": "code",
   "execution_count": null,
   "metadata": {},
   "outputs": [],
   "source": []
  }
 ],
 "metadata": {
  "kernelspec": {
   "display_name": "Python 3",
   "language": "python",
   "name": "python3"
  },
  "language_info": {
   "codemirror_mode": {
    "name": "ipython",
    "version": 3
   },
   "file_extension": ".py",
   "mimetype": "text/x-python",
   "name": "python",
   "nbconvert_exporter": "python",
   "pygments_lexer": "ipython3",
   "version": "3.8.3"
  }
 },
 "nbformat": 4,
 "nbformat_minor": 4
}
