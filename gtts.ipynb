{
 "cells": [
  {
   "cell_type": "code",
   "execution_count": null,
   "metadata": {},
   "outputs": [],
   "source": [
    "from gtts import gTTS\n",
    "import playsound\n",
    "\n",
    "msg = [\"有一天小明打電話給電話客服\",\"客服：很高興為您服務\",\"小明：你現在高興的太早了\",\"於是小明就把電話給掛了\"]\n",
    "\n",
    "i = 0;\n",
    "for m in msg:\n",
    "    print(m)\n",
    "    tts = gTTS(m, lang='zh-tw')\n",
    "    tts.save(\"{}.mp3\".format(i))\n",
    "\n",
    "    playsound.playsound(\"{}.mp3\".format(i))\n",
    "    i+=1"
   ]
  }
 ],
 "metadata": {
  "kernelspec": {
   "display_name": "Python 3",
   "language": "python",
   "name": "python3"
  },
  "language_info": {
   "codemirror_mode": {
    "name": "ipython",
    "version": 3
   },
   "file_extension": ".py",
   "mimetype": "text/x-python",
   "name": "python",
   "nbconvert_exporter": "python",
   "pygments_lexer": "ipython3",
   "version": "3.8.5"
  }
 },
 "nbformat": 4,
 "nbformat_minor": 4
}
