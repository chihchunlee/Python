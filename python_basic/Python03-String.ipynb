{
 "cells": [
  {
   "cell_type": "markdown",
   "metadata": {},
   "source": [
    "# Integer, float, complex\n",
    "## 整數 浮點數 虛數"
   ]
  },
  {
   "cell_type": "code",
   "execution_count": 8,
   "metadata": {},
   "outputs": [
    {
     "name": "stdout",
     "output_type": "stream",
     "text": [
      "<class 'int'>\n",
      "<class 'float'>\n",
      "<class 'float'>\n",
      "<class 'complex'>\n",
      "<class 'float'>\n",
      "5\n",
      "3.1\n",
      "3.0\n",
      "(1+2j)\n",
      "3123.2\n"
     ]
    }
   ],
   "source": [
    "a = 5\n",
    "b = 3.1\n",
    "c = 3.0\n",
    "d = 1+2j\n",
    "f = 3.1232e3\n",
    "print(type(a))\n",
    "print(type(b))\n",
    "print(type(c))\n",
    "print(type(d))\n",
    "print(type(f))\n",
    "\n",
    "print(a)\n",
    "print(b)\n",
    "print(c)\n",
    "print(d)\n",
    "print(f)"
   ]
  },
  {
   "cell_type": "markdown",
   "metadata": {},
   "source": [
    "# Boolean"
   ]
  },
  {
   "cell_type": "code",
   "execution_count": 9,
   "metadata": {},
   "outputs": [
    {
     "name": "stdout",
     "output_type": "stream",
     "text": [
      "True\n",
      "True\n",
      "False\n"
     ]
    }
   ],
   "source": [
    "print(5 > 3)\n",
    "print(5 != 3)\n",
    "print(5 < 3)"
   ]
  },
  {
   "cell_type": "markdown",
   "metadata": {},
   "source": [
    "# String"
   ]
  },
  {
   "cell_type": "code",
   "execution_count": 10,
   "metadata": {},
   "outputs": [
    {
     "name": "stdout",
     "output_type": "stream",
     "text": [
      "h\n",
      "e\n",
      "l\n",
      "l\n",
      "o\n",
      "============\n",
      "o\n",
      "l\n",
      "l\n",
      "e\n"
     ]
    }
   ],
   "source": [
    "## this is a string\n",
    "a = 'hello'\n",
    "print(a[0])\n",
    "print(a[1])\n",
    "print(a[2])\n",
    "print(a[3])\n",
    "print(a[4])\n",
    "print('============')\n",
    "print(a[-1])\n",
    "print(a[-2])\n",
    "print(a[-3])\n",
    "print(a[-4])"
   ]
  },
  {
   "cell_type": "code",
   "execution_count": 11,
   "metadata": {},
   "outputs": [
    {
     "name": "stdout",
     "output_type": "stream",
     "text": [
      "utif\n",
      "bea\n",
      "utiful\n",
      "ui\n",
      "beautiful\n"
     ]
    }
   ],
   "source": [
    "a = 'beautiful'\n",
    "print(a[3:7])\n",
    "print(a[:3])\n",
    "print(a[3:])\n",
    "print(a[3:7:2])\n",
    "print(a[:])"
   ]
  },
  {
   "cell_type": "code",
   "execution_count": 12,
   "metadata": {},
   "outputs": [
    {
     "name": "stdout",
     "output_type": "stream",
     "text": [
      "hellohello\n"
     ]
    }
   ],
   "source": [
    "a = 'hello'\n",
    "print(a * 2)"
   ]
  },
  {
   "cell_type": "code",
   "execution_count": 13,
   "metadata": {},
   "outputs": [
    {
     "name": "stdout",
     "output_type": "stream",
     "text": [
      "hello isaac\n"
     ]
    }
   ],
   "source": [
    "b = 'isaac'\n",
    "print(a+' '+b)"
   ]
  },
  {
   "cell_type": "code",
   "execution_count": 14,
   "metadata": {},
   "outputs": [
    {
     "name": "stdout",
     "output_type": "stream",
     "text": [
      "5\n"
     ]
    }
   ],
   "source": [
    "print(len(a))"
   ]
  },
  {
   "cell_type": "code",
   "execution_count": 15,
   "metadata": {},
   "outputs": [
    {
     "name": "stdout",
     "output_type": "stream",
     "text": [
      "hello, i am isaac!\n",
      "HELLO, I AM ISAAC!\n",
      "Hello,@I@am@Isaac!\n",
      "['Hello,', 'I', 'am', 'Isaac!']\n"
     ]
    }
   ],
   "source": [
    "empty_string = '' \n",
    "my_string = 'Hello, I am Isaac!'\n",
    "print(my_string.lower())\n",
    "print(my_string.upper())\n",
    "print(my_string.replace(' ','@'))\n",
    "print(my_string.split(' '))"
   ]
  },
  {
   "cell_type": "code",
   "execution_count": 16,
   "metadata": {},
   "outputs": [
    {
     "name": "stdout",
     "output_type": "stream",
     "text": [
      "Hello, I am Isaac!\n",
      "\n",
      "Hello, I am Isaac!\n"
     ]
    }
   ],
   "source": [
    "my_string = 'Hello, I am Isaac!\\n'\n",
    "print(my_string)\n",
    "print(my_string.strip())"
   ]
  },
  {
   "cell_type": "code",
   "execution_count": 3,
   "metadata": {},
   "outputs": [
    {
     "name": "stdout",
     "output_type": "stream",
     "text": [
      "['Java', 'technology', 'allows', 'you', 'to', 'work', 'and', 'play', 'in', 'a', 'secure', 'computing', 'environment.', 'Upgrading', 'to', 'the', 'latest', 'Java', 'version', 'improves', 'the', 'security', 'of', 'your', 'system,', 'as', 'older', 'versions', 'do', 'not', 'include', 'the', 'latest', 'security', 'updates.']\n"
     ]
    }
   ],
   "source": [
    "# 切割\n",
    "b = \"\"\"Java technology allows you to work and \n",
    "play in a secure computing environment. \n",
    "Upgrading to the latest Java version improves \n",
    "the security of your system, \n",
    "as older versions do not include the latest security updates.\"\"\"\n",
    "print(b.split())"
   ]
  },
  {
   "cell_type": "code",
   "execution_count": 5,
   "metadata": {},
   "outputs": [
    {
     "name": "stdout",
     "output_type": "stream",
     "text": [
      "['Java techno', 'ogy a', '', 'ows you to work and \\np', 'ay in a secure computing environment. \\nUpgrading to the ', 'atest Java version improves \\nthe security of your system, \\nas o', 'der versions do not inc', 'ude the ', 'atest security updates.']\n"
     ]
    }
   ],
   "source": [
    "# 去掉指定字串 切割內容\n",
    "print(b.split('l'))"
   ]
  },
  {
   "cell_type": "code",
   "execution_count": 6,
   "metadata": {},
   "outputs": [
    {
     "name": "stdout",
     "output_type": "stream",
     "text": [
      "2\n",
      "1\n"
     ]
    }
   ],
   "source": [
    "# a b 互換\n",
    "a,b = 1,2\n",
    "c = a\n",
    "a = b\n",
    "b = c\n",
    "del c\n",
    "print(a)\n",
    "print(b)"
   ]
  },
  {
   "cell_type": "code",
   "execution_count": 7,
   "metadata": {},
   "outputs": [
    {
     "name": "stdout",
     "output_type": "stream",
     "text": [
      "2\n",
      "1\n"
     ]
    }
   ],
   "source": [
    "# a b 互換\n",
    "a,b = 1,2\n",
    "a,b = b,a\n",
    "print(a)\n",
    "print(b)"
   ]
  },
  {
   "cell_type": "code",
   "execution_count": 8,
   "metadata": {},
   "outputs": [
    {
     "name": "stdout",
     "output_type": "stream",
     "text": [
      "2\n",
      "3\n",
      "1\n"
     ]
    }
   ],
   "source": [
    "# a b c 互換\n",
    "a,b,c = 1,2,3\n",
    "a,b,c = b,c,a\n",
    "print(a)\n",
    "print(b)\n",
    "print(c)"
   ]
  },
  {
   "cell_type": "code",
   "execution_count": null,
   "metadata": {},
   "outputs": [],
   "source": []
  }
 ],
 "metadata": {
  "kernelspec": {
   "display_name": "Python 3",
   "language": "python",
   "name": "python3"
  },
  "language_info": {
   "codemirror_mode": {
    "name": "ipython",
    "version": 3
   },
   "file_extension": ".py",
   "mimetype": "text/x-python",
   "name": "python",
   "nbconvert_exporter": "python",
   "pygments_lexer": "ipython3",
   "version": "3.8.5"
  }
 },
 "nbformat": 4,
 "nbformat_minor": 4
}
