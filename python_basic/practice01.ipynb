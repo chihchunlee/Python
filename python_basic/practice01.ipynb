{
 "cells": [
  {
   "cell_type": "markdown",
   "metadata": {},
   "source": [
    "# Given weight and height of a person,  calculate BMI  \n",
    "Definition: $ \\text{BMI} = \\frac{\\text{weight}}{\\text{height}^2} $"
   ]
  },
  {
   "cell_type": "code",
   "execution_count": 3,
   "metadata": {},
   "outputs": [
    {
     "name": "stdout",
     "output_type": "stream",
     "text": [
      "29.357521924046825\n"
     ]
    }
   ],
   "source": [
    "## write your code here\n",
    "height = 1.63\n",
    "weight = 78\n",
    "BMI = weight / (height * height)\n",
    "print(BMI)\n"
   ]
  },
  {
   "cell_type": "markdown",
   "metadata": {},
   "source": [
    "# Write a Python program which accepts the radius of a circle from the user and compute the area.  \n",
    "## hint: assume pi = 3.14"
   ]
  },
  {
   "cell_type": "code",
   "execution_count": 2,
   "metadata": {},
   "outputs": [
    {
     "name": "stdout",
     "output_type": "stream",
     "text": [
      "Input the radius of the circle : 3\n",
      "The area of the circle with radius is: 28.259999999999998\n"
     ]
    }
   ],
   "source": [
    "## write your code here\n",
    "\n",
    "print(\"The area of the circle with radius is: \", end='')\n",
    "print(area)"
   ]
  },
  {
   "cell_type": "code",
   "execution_count": 1,
   "metadata": {},
   "outputs": [
    {
     "name": "stdout",
     "output_type": "stream",
     "text": [
      "the radius is :5\n",
      "The area of the circle with radius is:78.5\n"
     ]
    }
   ],
   "source": [
    "radius = input('the radius is :')\n",
    "pi = 3.14\n",
    "circle_area = float(radius)*float(radius)*pi\n",
    "print('The area of the circle with radius is:{}'.format(circle_area))"
   ]
  },
  {
   "cell_type": "code",
   "execution_count": 1,
   "metadata": {},
   "outputs": [
    {
     "name": "stdout",
     "output_type": "stream",
     "text": [
      "Input the radius of the circle : 3\n",
      "The area of the circle with radius is: 28.259999999999998\n"
     ]
    }
   ],
   "source": [
    "r = float(input(\"Input the radius of the circle : \"))\n",
    "pi = 3.14\n",
    "area = pi * r * r\n",
    "\n",
    "print(\"The area of the circle with radius is: \", end='')\n",
    "print(area)"
   ]
  },
  {
   "cell_type": "code",
   "execution_count": null,
   "metadata": {},
   "outputs": [],
   "source": []
  }
 ],
 "metadata": {
  "kernelspec": {
   "display_name": "Python 3",
   "language": "python",
   "name": "python3"
  },
  "language_info": {
   "codemirror_mode": {
    "name": "ipython",
    "version": 3
   },
   "file_extension": ".py",
   "mimetype": "text/x-python",
   "name": "python",
   "nbconvert_exporter": "python",
   "pygments_lexer": "ipython3",
   "version": "3.8.3"
  }
 },
 "nbformat": 4,
 "nbformat_minor": 4
}
