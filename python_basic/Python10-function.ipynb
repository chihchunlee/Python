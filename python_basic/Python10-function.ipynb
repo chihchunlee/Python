{
 "cells": [
  {
   "cell_type": "markdown",
   "metadata": {},
   "source": [
    "# def\n",
    "## 自訂function 有回傳值"
   ]
  },
  {
   "cell_type": "code",
   "execution_count": 10,
   "metadata": {},
   "outputs": [
    {
     "name": "stdout",
     "output_type": "stream",
     "text": [
      "5\n",
      "9\n"
     ]
    },
    {
     "data": {
      "text/plain": [
       "9"
      ]
     },
     "execution_count": 10,
     "metadata": {},
     "output_type": "execute_result"
    }
   ],
   "source": [
    "# 自訂方法 有回傳值\n",
    "def addNum(a,b):\n",
    "    return a+b\n",
    "\n",
    "print(addNum(1,4))\n",
    "\n",
    "result = addNum(4,5)\n",
    "print(result)\n",
    "\n",
    "addNum(4,5)"
   ]
  },
  {
   "cell_type": "markdown",
   "metadata": {},
   "source": [
    "# *args"
   ]
  },
  {
   "cell_type": "code",
   "execution_count": 11,
   "metadata": {},
   "outputs": [
    {
     "name": "stdout",
     "output_type": "stream",
     "text": [
      "1\n",
      "3\n",
      "6\n",
      "10\n",
      "15\n"
     ]
    },
    {
     "data": {
      "text/plain": [
       "15"
      ]
     },
     "execution_count": 11,
     "metadata": {},
     "output_type": "execute_result"
    }
   ],
   "source": [
    "# 多個參數\n",
    "def addall(x,*args):\n",
    "    res = x\n",
    "    print(res)\n",
    "    for y in args:\n",
    "        res += y\n",
    "        print(res)\n",
    "    return res\n",
    "addall(1,2,3,4,5)"
   ]
  },
  {
   "cell_type": "code",
   "execution_count": 32,
   "metadata": {},
   "outputs": [
    {
     "name": "stdout",
     "output_type": "stream",
     "text": [
      "['apple', 'banana', 'orange']\n"
     ]
    }
   ],
   "source": [
    "def show_list_items(*items):\n",
    "    for i in items:\n",
    "        print(i)\n",
    "my_list = ['apple', 'banana', 'orange']\n",
    "show_list_items(my_list)"
   ]
  },
  {
   "cell_type": "markdown",
   "metadata": {},
   "source": [
    "# **args"
   ]
  },
  {
   "cell_type": "code",
   "execution_count": 12,
   "metadata": {},
   "outputs": [
    {
     "data": {
      "text/plain": [
       "[['david', 'Mary', 'John'], ['M', 'F', 'M']]"
      ]
     },
     "execution_count": 12,
     "metadata": {},
     "output_type": "execute_result"
    }
   ],
   "source": [
    "# key/value\n",
    "def make_two_lists(**kwargs):\n",
    "    keys,values = [],[]\n",
    "    for k,v in kwargs.items():\n",
    "        keys.append(k)\n",
    "        values.append(v)\n",
    "    return [keys,values]\n",
    "\n",
    "make_two_lists(david='M',Mary='F',John='M')"
   ]
  },
  {
   "cell_type": "code",
   "execution_count": 31,
   "metadata": {},
   "outputs": [
    {
     "name": "stdout",
     "output_type": "stream",
     "text": [
      "{'isaac': 80, 'andy': 90, 'amy': 30}\n"
     ]
    }
   ],
   "source": [
    "def show_dict_items(**items):\n",
    "    for i in items:\n",
    "        print(i)\n",
    "my_dict = {'isaac':80, 'andy':90, 'amy':30}\n",
    "show_list_items(my_dict)"
   ]
  },
  {
   "cell_type": "markdown",
   "metadata": {},
   "source": [
    "# Build-in function"
   ]
  },
  {
   "cell_type": "code",
   "execution_count": 13,
   "metadata": {},
   "outputs": [
    {
     "name": "stdout",
     "output_type": "stream",
     "text": [
      "5\n",
      "True\n",
      "65\n",
      "A\n",
      "15\n"
     ]
    }
   ],
   "source": [
    "a = -5\n",
    "b = 'A'\n",
    "c =  65\n",
    "d = '(a+10)*3'\n",
    "print(abs(a))\n",
    "print(bool(a))\n",
    "print(ord(b))\n",
    "print(chr(c))\n",
    "print(eval(d))\n",
    "\n"
   ]
  },
  {
   "cell_type": "markdown",
   "metadata": {},
   "source": [
    "# User-Defined Function"
   ]
  },
  {
   "cell_type": "code",
   "execution_count": 14,
   "metadata": {},
   "outputs": [
    {
     "name": "stdout",
     "output_type": "stream",
     "text": [
      "hello\n",
      "hello\n",
      "hello\n"
     ]
    }
   ],
   "source": [
    "def printHello():\n",
    "    print('hello')\n",
    "    \n",
    "printHello()\n",
    "printHello()\n",
    "printHello()"
   ]
  },
  {
   "cell_type": "code",
   "execution_count": 15,
   "metadata": {},
   "outputs": [
    {
     "name": "stdout",
     "output_type": "stream",
     "text": [
      "hello isaac\n",
      "hello Dana\n",
      "hello Joe\n"
     ]
    }
   ],
   "source": [
    "def printHello(text):\n",
    "    print('hello '+ text)\n",
    "    \n",
    "printHello('isaac')\n",
    "printHello('Dana')\n",
    "printHello('Joe')"
   ]
  },
  {
   "cell_type": "code",
   "execution_count": 16,
   "metadata": {},
   "outputs": [
    {
     "name": "stdout",
     "output_type": "stream",
     "text": [
      "8\n",
      "-2\n"
     ]
    }
   ],
   "source": [
    "def sum_number(a, b):\n",
    "    num_sum = a + b\n",
    "    return num_sum\n",
    "    \n",
    "print(sum_number(3,5))\n",
    "print(sum_number(3,-5))\n",
    "\n"
   ]
  },
  {
   "cell_type": "code",
   "execution_count": 17,
   "metadata": {},
   "outputs": [
    {
     "name": "stdout",
     "output_type": "stream",
     "text": [
      "15\n",
      "5\n"
     ]
    }
   ],
   "source": [
    "def sum_number(a, b=10):\n",
    "    num_sum = a + b\n",
    "    return num_sum\n",
    "    \n",
    "print(sum_number(5))\n",
    "print(sum_number(-5))"
   ]
  },
  {
   "cell_type": "code",
   "execution_count": 18,
   "metadata": {},
   "outputs": [
    {
     "name": "stdout",
     "output_type": "stream",
     "text": [
      "5\n",
      "5\n"
     ]
    }
   ],
   "source": [
    "def sum_number(a=-5, b=10):\n",
    "    num_sum = a + b\n",
    "    return num_sum\n",
    "    \n",
    "print(sum_number())\n",
    "print(sum_number())"
   ]
  },
  {
   "cell_type": "code",
   "execution_count": 21,
   "metadata": {},
   "outputs": [
    {
     "name": "stdout",
     "output_type": "stream",
     "text": [
      "isaac's score is: 80\n",
      "isaac's score is: 80\n"
     ]
    }
   ],
   "source": [
    "def get_score(student_name, score):\n",
    "    text = student_name + '\\'s score is: ' + str(score)\n",
    "    print(text)\n",
    "    \n",
    "get_score('isaac', 80)\n",
    "get_score(score = 80, student_name = 'isaac')"
   ]
  },
  {
   "cell_type": "code",
   "execution_count": 33,
   "metadata": {},
   "outputs": [
    {
     "name": "stdout",
     "output_type": "stream",
     "text": [
      "(40, 10.0)\n"
     ]
    }
   ],
   "source": [
    "def list_statistic(u_list):\n",
    "    num_sum = sum(u_list)\n",
    "    num_avg = num_sum / len(u_list) \n",
    "    return num_sum, num_avg\n",
    "\n",
    "my_list = [100, 20, -30, -50] \n",
    "print(list_statistic(my_list))"
   ]
  },
  {
   "cell_type": "code",
   "execution_count": 34,
   "metadata": {},
   "outputs": [
    {
     "name": "stdout",
     "output_type": "stream",
     "text": [
      "main function\n",
      "hello isaac\n"
     ]
    }
   ],
   "source": [
    "def main():\n",
    "    print('main function')\n",
    "    printHello('isaac')\n",
    "    \n",
    "def printHello(text):\n",
    "    print('hello '+text)\n",
    "\n",
    "if __name__ == \"__main__\":\n",
    "    main()"
   ]
  },
  {
   "cell_type": "markdown",
   "metadata": {},
   "source": [
    "# Local variables and Global variables"
   ]
  },
  {
   "cell_type": "code",
   "execution_count": 35,
   "metadata": {},
   "outputs": [
    {
     "name": "stdout",
     "output_type": "stream",
     "text": [
      "8\n"
     ]
    },
    {
     "ename": "NameError",
     "evalue": "name 'x' is not defined",
     "output_type": "error",
     "traceback": [
      "\u001b[0;31m---------------------------------------------------------------------------\u001b[0m",
      "\u001b[0;31mNameError\u001b[0m                                 Traceback (most recent call last)",
      "\u001b[0;32m<ipython-input-35-76dfeac4eb5c>\u001b[0m in \u001b[0;36m<module>\u001b[0;34m\u001b[0m\n\u001b[1;32m      4\u001b[0m \u001b[0;34m\u001b[0m\u001b[0m\n\u001b[1;32m      5\u001b[0m \u001b[0mprint\u001b[0m\u001b[0;34m(\u001b[0m\u001b[0msum_number\u001b[0m\u001b[0;34m(\u001b[0m\u001b[0;36m3\u001b[0m\u001b[0;34m,\u001b[0m\u001b[0;36m5\u001b[0m\u001b[0;34m)\u001b[0m\u001b[0;34m)\u001b[0m\u001b[0;34m\u001b[0m\u001b[0;34m\u001b[0m\u001b[0m\n\u001b[0;32m----> 6\u001b[0;31m \u001b[0mprint\u001b[0m\u001b[0;34m(\u001b[0m\u001b[0mx\u001b[0m\u001b[0;34m)\u001b[0m\u001b[0;34m\u001b[0m\u001b[0;34m\u001b[0m\u001b[0m\n\u001b[0m",
      "\u001b[0;31mNameError\u001b[0m: name 'x' is not defined"
     ]
    }
   ],
   "source": [
    "def sum_number(x, y):\n",
    "    num_sum = x + y\n",
    "    return num_sum\n",
    "    \n",
    "print(sum_number(3,5))\n",
    "print(x)"
   ]
  },
  {
   "cell_type": "code",
   "execution_count": 36,
   "metadata": {},
   "outputs": [
    {
     "name": "stdout",
     "output_type": "stream",
     "text": [
      "8\n",
      "3\n"
     ]
    }
   ],
   "source": [
    "x = 3\n",
    "def sum_number(y):\n",
    "    global x\n",
    "    num_sum = x + y\n",
    "    return num_sum\n",
    "    \n",
    "print(sum_number(5))\n",
    "print(x)"
   ]
  },
  {
   "cell_type": "code",
   "execution_count": 37,
   "metadata": {},
   "outputs": [
    {
     "name": "stdout",
     "output_type": "stream",
     "text": [
      "25\n",
      "50\n"
     ]
    }
   ],
   "source": [
    "# 變數範圍不同\n",
    "x = 25\n",
    "\n",
    "def printer():\n",
    "    x = 50\n",
    "    return x\n",
    "\n",
    "print(x)\n",
    "print(printer())"
   ]
  },
  {
   "cell_type": "code",
   "execution_count": 39,
   "metadata": {},
   "outputs": [
    {
     "name": "stdout",
     "output_type": "stream",
     "text": [
      "globale\n",
      "Enclosing functions\n"
     ]
    }
   ],
   "source": [
    "#\n",
    "name = 'globale'\n",
    "\n",
    "def greet():\n",
    "    \n",
    "    name = 'Enclosing functions'\n",
    "    print(name)\n",
    "    \n",
    "print(name)\n",
    "greet()  \n",
    "# Built-in len"
   ]
  },
  {
   "cell_type": "markdown",
   "metadata": {},
   "source": [
    "# Local"
   ]
  },
  {
   "cell_type": "code",
   "execution_count": 40,
   "metadata": {},
   "outputs": [
    {
     "name": "stdout",
     "output_type": "stream",
     "text": [
      "x is 50\n",
      "Changed local x to 2\n",
      "x is still 50\n"
     ]
    }
   ],
   "source": [
    "# Local\n",
    "x = 50       # global\n",
    "\n",
    "def func(x):\n",
    "    print('x is', x)\n",
    "    x = 2    # Local\n",
    "    print('Changed local x to', x)\n",
    "    \n",
    "func(x)\n",
    "print('x is still', x)"
   ]
  },
  {
   "cell_type": "code",
   "execution_count": null,
   "metadata": {},
   "outputs": [],
   "source": []
  },
  {
   "cell_type": "code",
   "execution_count": 41,
   "metadata": {},
   "outputs": [
    {
     "name": "stdout",
     "output_type": "stream",
     "text": [
      "50\n",
      "x is 50\n",
      "Changed local x to 2\n",
      "x is still 2\n"
     ]
    }
   ],
   "source": [
    "#  global\n",
    "x = 50     # global\n",
    "\n",
    "def func():\n",
    "    global x    # global can use\n",
    "    print('x is', x)\n",
    "    x = 2  # Local change global\n",
    "    print('Changed local x to', x)\n",
    "    \n",
    "print(x)    \n",
    "func()\n",
    "print('x is still', x)"
   ]
  },
  {
   "cell_type": "code",
   "execution_count": 42,
   "metadata": {},
   "outputs": [
    {
     "name": "stdout",
     "output_type": "stream",
     "text": [
      "500\n",
      "100\n",
      "500\n",
      "2\n",
      "2\n"
     ]
    },
    {
     "ename": "NameError",
     "evalue": "name 'y' is not defined",
     "output_type": "error",
     "traceback": [
      "\u001b[0;31m---------------------------------------------------------------------------\u001b[0m",
      "\u001b[0;31mNameError\u001b[0m                                 Traceback (most recent call last)",
      "\u001b[0;32m<ipython-input-42-f0caefab3d22>\u001b[0m in \u001b[0;36m<module>\u001b[0;34m\u001b[0m\n\u001b[1;32m     13\u001b[0m \u001b[0mfunc\u001b[0m\u001b[0;34m(\u001b[0m\u001b[0;34m)\u001b[0m\u001b[0;34m\u001b[0m\u001b[0;34m\u001b[0m\u001b[0m\n\u001b[1;32m     14\u001b[0m \u001b[0mprint\u001b[0m\u001b[0;34m(\u001b[0m\u001b[0mx\u001b[0m\u001b[0;34m)\u001b[0m\u001b[0;34m\u001b[0m\u001b[0;34m\u001b[0m\u001b[0m\n\u001b[0;32m---> 15\u001b[0;31m \u001b[0mprint\u001b[0m\u001b[0;34m(\u001b[0m\u001b[0my\u001b[0m\u001b[0;34m)\u001b[0m\u001b[0;34m\u001b[0m\u001b[0;34m\u001b[0m\u001b[0m\n\u001b[0m",
      "\u001b[0;31mNameError\u001b[0m: name 'y' is not defined"
     ]
    }
   ],
   "source": [
    "#  function 裡的變數  變化\n",
    "x = 500\n",
    "\n",
    "def func():\n",
    "    y = 100\n",
    "    print(y)\n",
    "    global x\n",
    "    print(x)\n",
    "    x = 2\n",
    "    print(x)\n",
    "    \n",
    "print(x)    \n",
    "func()\n",
    "print(x)\n",
    "print(y)   # name 'y' is not defined"
   ]
  },
  {
   "cell_type": "code",
   "execution_count": null,
   "metadata": {},
   "outputs": [],
   "source": []
  }
 ],
 "metadata": {
  "kernelspec": {
   "display_name": "Python 3",
   "language": "python",
   "name": "python3"
  },
  "language_info": {
   "codemirror_mode": {
    "name": "ipython",
    "version": 3
   },
   "file_extension": ".py",
   "mimetype": "text/x-python",
   "name": "python",
   "nbconvert_exporter": "python",
   "pygments_lexer": "ipython3",
   "version": "3.8.5"
  }
 },
 "nbformat": 4,
 "nbformat_minor": 4
}
