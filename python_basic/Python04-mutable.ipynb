{
 "cells": [
  {
   "cell_type": "markdown",
   "metadata": {},
   "source": [
    "# List (mutable)\n",
    "## 有序可變化的元素集合\n",
    "## 可允許list內的元素為不同型別\n",
    "### 使用[ ]"
   ]
  },
  {
   "cell_type": "code",
   "execution_count": 1,
   "metadata": {},
   "outputs": [
    {
     "name": "stdout",
     "output_type": "stream",
     "text": [
      "apple\n",
      "10.4\n",
      "(1-3j)\n"
     ]
    }
   ],
   "source": [
    "## this is a list\n",
    "a = ['apple', 10.4, 1-3j]\n",
    "b = [1, 3, -2, 8, 9, -10]\n",
    "print(a[0])\n",
    "print(a[1])\n",
    "print(a[-1])"
   ]
  },
  {
   "cell_type": "code",
   "execution_count": 3,
   "metadata": {},
   "outputs": [
    {
     "name": "stdout",
     "output_type": "stream",
     "text": [
      "['apple', 10.4, (1-3j), 1, 3, -2, 8, 9, -10]\n"
     ]
    }
   ],
   "source": [
    "# empty_list = list()\n",
    "empty_list = []\n",
    "a = ['apple', 10.4, 1-3j]\n",
    "b = [1, 3, -2, 8, 9, -10]\n",
    "print(a + b)"
   ]
  },
  {
   "cell_type": "code",
   "execution_count": 7,
   "metadata": {},
   "outputs": [
    {
     "name": "stdout",
     "output_type": "stream",
     "text": [
      "['a', 'p', 'p', 'l', 'e']\n"
     ]
    }
   ],
   "source": [
    "empty_list = 'apple'\n",
    "empty_list = list(empty_list)\n",
    "print(empty_list)"
   ]
  },
  {
   "cell_type": "code",
   "execution_count": 10,
   "metadata": {},
   "outputs": [
    {
     "name": "stdout",
     "output_type": "stream",
     "text": [
      "['a', 'p', 'p', 'l', 'e']\n"
     ]
    }
   ],
   "source": [
    "# list('string') 把字串丟到 list 轉型\n",
    "print(list('apple'))"
   ]
  },
  {
   "cell_type": "code",
   "execution_count": 20,
   "metadata": {
    "scrolled": true
   },
   "outputs": [
    {
     "name": "stdout",
     "output_type": "stream",
     "text": [
      "[1, 3, -2, 8, 9, -10, 20]\n",
      "[1, -2, 8, 9, -10, 20]\n",
      "[1, -2, 8, 9, -10]\n",
      "[1, 100, -2, 8, 9, -10]\n",
      "[-10, 9, 8, -2, 100, 1]\n",
      "[-10, -2, 1, 8, 9, 100]\n"
     ]
    }
   ],
   "source": [
    "a = ['apple', 10.4, 1-3j]\n",
    "b = [1, 3, -2, 8, 9, -10]\n",
    "b.append(20)  # 增加到 b list 裡\n",
    "print(b)\n",
    "b.remove(3)   # 刪除 b 裡 3\n",
    "print(b)\n",
    "b.pop()       # 刪除 b 最後一個\n",
    "print(b)\n",
    "b.insert(1, 100) #  b 1位置加入100 其他後移\n",
    "print(b)\n",
    "b.reverse() # 順序反轉\n",
    "print(b)\n",
    "b.sort()    # 大小排列\n",
    "print(b)"
   ]
  },
  {
   "cell_type": "code",
   "execution_count": 22,
   "metadata": {},
   "outputs": [
    {
     "data": {
      "text/plain": [
       "3"
      ]
     },
     "execution_count": 22,
     "metadata": {},
     "output_type": "execute_result"
    }
   ],
   "source": [
    "# len 長度\n",
    "my_list = [1,2,3]\n",
    "len(my_list)"
   ]
  },
  {
   "cell_type": "code",
   "execution_count": 23,
   "metadata": {},
   "outputs": [
    {
     "name": "stdout",
     "output_type": "stream",
     "text": [
      "['h', 'e', 'l', 'l', 'o', ' ', 'w', 'o', 'r', 'l', 'd']\n",
      "['h', 'e', 'l', 'l', 'o', ' ', 'w', 'o', 'r', 'l']\n",
      "['h', 'e', 'l', 'l', 'o', ' ', 'w', 'o', 'r', 'l', '!']\n",
      "[' ', '!', 'e', 'h', 'l', 'l', 'l', 'o', 'o', 'r', 'w']\n",
      "['w', 'r', 'o', 'o', 'l', 'l', 'l', 'h', 'e', '!', ' ']\n"
     ]
    }
   ],
   "source": [
    "# 字串 hello world 轉型成 list\n",
    "hello = list('hello world')\n",
    "print(hello)\n",
    "hello.pop()\n",
    "print(hello)\n",
    "hello.append('!')\n",
    "print(hello)\n",
    "hello.sort()\n",
    "print(hello)\n",
    "hello.reverse()\n",
    "print(hello)"
   ]
  },
  {
   "cell_type": "code",
   "execution_count": 24,
   "metadata": {},
   "outputs": [
    {
     "data": {
      "text/plain": [
       "True"
      ]
     },
     "execution_count": 24,
     "metadata": {},
     "output_type": "execute_result"
    }
   ],
   "source": [
    "#判斷是否存在\n",
    "'e' in hello"
   ]
  },
  {
   "cell_type": "code",
   "execution_count": 25,
   "metadata": {},
   "outputs": [
    {
     "data": {
      "text/plain": [
       "False"
      ]
     },
     "execution_count": 25,
     "metadata": {},
     "output_type": "execute_result"
    }
   ],
   "source": [
    "'a' in hello"
   ]
  },
  {
   "cell_type": "code",
   "execution_count": 26,
   "metadata": {},
   "outputs": [
    {
     "data": {
      "text/plain": [
       "False"
      ]
     },
     "execution_count": 26,
     "metadata": {},
     "output_type": "execute_result"
    }
   ],
   "source": [
    "'e' not in hello"
   ]
  },
  {
   "cell_type": "code",
   "execution_count": 29,
   "metadata": {},
   "outputs": [
    {
     "name": "stdout",
     "output_type": "stream",
     "text": [
      "[1, 2, 3]\n",
      "[1, 2, 3]\n",
      "[1, 100000, 3]\n",
      "[1, 10001, 3]\n"
     ]
    }
   ],
   "source": [
    "# 複製串列要用copy.deepcopy()\n",
    "x = [1,2,3]\n",
    "import copy\n",
    "xx = copy.deepcopy(x)\n",
    "print(x)\n",
    "print(xx)\n",
    "x[1] = 100000\n",
    "print(x)\n",
    "xx[1] = 10001\n",
    "print(xx)"
   ]
  },
  {
   "cell_type": "markdown",
   "metadata": {},
   "source": [
    "# dictionary\n",
    "## 集結一堆key與value的元素集合\n",
    "### 使用 {key:value} key值不能重複"
   ]
  },
  {
   "cell_type": "code",
   "execution_count": 67,
   "metadata": {},
   "outputs": [
    {
     "name": "stdout",
     "output_type": "stream",
     "text": [
      "{'isaac': 100, 'judy': 60, 'Andy': 80}\n",
      "3\n",
      "100\n"
     ]
    }
   ],
   "source": [
    "a = {'isaac':100, 'judy':60, 'Andy':80}\n",
    "print(a)\n",
    "print(len(a))\n",
    "print(a['isaac'])"
   ]
  },
  {
   "cell_type": "code",
   "execution_count": 68,
   "metadata": {},
   "outputs": [
    {
     "name": "stdout",
     "output_type": "stream",
     "text": [
      "{'isaac': 100, 'judy': 60, 'Andy': 80, 'amy': 10}\n"
     ]
    }
   ],
   "source": [
    "# 加入元素  ['key'] = value\n",
    "a['amy'] = 10 \n",
    "print(a)"
   ]
  },
  {
   "cell_type": "code",
   "execution_count": 69,
   "metadata": {},
   "outputs": [
    {
     "name": "stdout",
     "output_type": "stream",
     "text": [
      "{'isaac': 100, 'judy': 60, 'Andy': 80, 'amy': 'new2'}\n"
     ]
    }
   ],
   "source": [
    "# 值若存在 則覆蓋原本值\n",
    "a['amy'] = 'new2'\n",
    "print(a)"
   ]
  },
  {
   "cell_type": "code",
   "execution_count": 71,
   "metadata": {},
   "outputs": [
    {
     "name": "stdout",
     "output_type": "stream",
     "text": [
      "{'isaac': 100, 'judy': 60, 'Andy': 80, 'amy': 'new210'}\n"
     ]
    }
   ],
   "source": [
    "# 加\n",
    "a['amy'] = a['amy'] + '10'\n",
    "print(a)"
   ]
  },
  {
   "cell_type": "code",
   "execution_count": 72,
   "metadata": {},
   "outputs": [
    {
     "name": "stdout",
     "output_type": "stream",
     "text": [
      "{'isaac': 100, 'judy': 60, 'Andy': 80, 'amy': 'new210', 'e': 123, 'd': 'new3'}\n"
     ]
    }
   ],
   "source": [
    "# 多項操作\n",
    "a.update({'e' : 123,'d' :'new3'})\n",
    "print(a)"
   ]
  },
  {
   "cell_type": "code",
   "execution_count": 49,
   "metadata": {},
   "outputs": [
    {
     "name": "stdout",
     "output_type": "stream",
     "text": [
      "dict_values([100, 60, 80, 20])\n"
     ]
    }
   ],
   "source": [
    "# print values\n",
    "print(a.values())"
   ]
  },
  {
   "cell_type": "code",
   "execution_count": 50,
   "metadata": {},
   "outputs": [
    {
     "name": "stdout",
     "output_type": "stream",
     "text": [
      "dict_keys(['isaac', 'judy', 'Andy', 'amy'])\n"
     ]
    }
   ],
   "source": [
    "# print keys\n",
    "print(a.keys())"
   ]
  },
  {
   "cell_type": "code",
   "execution_count": 51,
   "metadata": {},
   "outputs": [
    {
     "name": "stdout",
     "output_type": "stream",
     "text": [
      "{'judy': 60, 'Andy': 80, 'amy': 20}\n"
     ]
    }
   ],
   "source": [
    "# pop('keys')\n",
    "a.pop(\"isaac\")\n",
    "print(a)"
   ]
  },
  {
   "cell_type": "code",
   "execution_count": 52,
   "metadata": {},
   "outputs": [
    {
     "name": "stdout",
     "output_type": "stream",
     "text": [
      "{'judy': 60, 'amy': 20}\n"
     ]
    }
   ],
   "source": [
    "a.pop('Andy')\n",
    "print(a)"
   ]
  },
  {
   "cell_type": "code",
   "execution_count": 60,
   "metadata": {},
   "outputs": [
    {
     "name": "stdout",
     "output_type": "stream",
     "text": [
      "{'a': 100, 'b': 'yes', 'c': 0.98}\n",
      "dict_keys(['a', 'b', 'c'])\n",
      "dict_values([100, 'yes', 0.98])\n"
     ]
    }
   ],
   "source": [
    "# dictionary dic = {key : value} key唯一值\n",
    "dic = {'a':100,'b':\"yes\",'c':0.98}\n",
    "print(dic)\n",
    "# keys\n",
    "print(dic.keys())\n",
    "# values\n",
    "print(dic.values())"
   ]
  },
  {
   "cell_type": "code",
   "execution_count": 61,
   "metadata": {},
   "outputs": [
    {
     "name": "stdout",
     "output_type": "stream",
     "text": [
      "100\n",
      "not in\n"
     ]
    }
   ],
   "source": [
    "# 用 .get()取值 不存在才不會錯誤\n",
    "print(dic.get('a','default'))\n",
    "print(dic.get('d','not in'))"
   ]
  },
  {
   "cell_type": "code",
   "execution_count": 62,
   "metadata": {},
   "outputs": [
    {
     "data": {
      "text/plain": [
       "True"
      ]
     },
     "execution_count": 62,
     "metadata": {},
     "output_type": "execute_result"
    }
   ],
   "source": [
    "'a' in dic"
   ]
  },
  {
   "cell_type": "code",
   "execution_count": 63,
   "metadata": {},
   "outputs": [
    {
     "data": {
      "text/plain": [
       "True"
      ]
     },
     "execution_count": 63,
     "metadata": {},
     "output_type": "execute_result"
    }
   ],
   "source": [
    "'d' not in dic"
   ]
  },
  {
   "cell_type": "code",
   "execution_count": 64,
   "metadata": {},
   "outputs": [
    {
     "data": {
      "text/plain": [
       "<dict_keyiterator at 0x1dbdfcbecc0>"
      ]
     },
     "execution_count": 64,
     "metadata": {},
     "output_type": "execute_result"
    }
   ],
   "source": [
    "iter(dic)"
   ]
  },
  {
   "cell_type": "code",
   "execution_count": 65,
   "metadata": {},
   "outputs": [
    {
     "name": "stdout",
     "output_type": "stream",
     "text": [
      "{'a': 100, 'c': 0.98}\n"
     ]
    }
   ],
   "source": [
    "# del d['keys']\n",
    "del dic['b']\n",
    "print(dic)"
   ]
  },
  {
   "cell_type": "code",
   "execution_count": 73,
   "metadata": {},
   "outputs": [
    {
     "data": {
      "text/plain": [
       "2043852012672"
      ]
     },
     "execution_count": 73,
     "metadata": {},
     "output_type": "execute_result"
    }
   ],
   "source": [
    "id(dic)"
   ]
  },
  {
   "cell_type": "code",
   "execution_count": 74,
   "metadata": {},
   "outputs": [
    {
     "data": {
      "text/plain": [
       "dict"
      ]
     },
     "execution_count": 74,
     "metadata": {},
     "output_type": "execute_result"
    }
   ],
   "source": [
    "type(dic)"
   ]
  },
  {
   "cell_type": "markdown",
   "metadata": {},
   "source": [
    "# set\n",
    "## 無序無索引的元素集合\n",
    "## 不允許重複元素\n",
    "### 使用{ }"
   ]
  },
  {
   "cell_type": "code",
   "execution_count": 80,
   "metadata": {},
   "outputs": [
    {
     "name": "stdout",
     "output_type": "stream",
     "text": [
      "{'apple', 'cherry', 'banana', 'orange'}\n"
     ]
    }
   ],
   "source": [
    "fruits = {\"apple\", \"banana\", \"cherry\"}\n",
    "\n",
    "fruits.add(\"orange\")\n",
    "\n",
    "print(fruits)"
   ]
  },
  {
   "cell_type": "code",
   "execution_count": 81,
   "metadata": {},
   "outputs": [
    {
     "name": "stdout",
     "output_type": "stream",
     "text": [
      "{'grapes', 'banana', 'mango', 'apple', 'orange', 'cherry'}\n"
     ]
    }
   ],
   "source": [
    "fruits = {\"apple\", \"banana\", \"cherry\"}\n",
    "\n",
    "fruits.update([\"orange\", \"mango\", \"grapes\"])\n",
    "\n",
    "print(fruits)"
   ]
  },
  {
   "cell_type": "code",
   "execution_count": 82,
   "metadata": {},
   "outputs": [
    {
     "name": "stdout",
     "output_type": "stream",
     "text": [
      "{'apple', 'cherry'}\n"
     ]
    }
   ],
   "source": [
    "fruits = {\"apple\", \"banana\", \"cherry\"}\n",
    "\n",
    "fruits.remove(\"banana\")\n",
    "\n",
    "print(fruits)"
   ]
  },
  {
   "cell_type": "code",
   "execution_count": 98,
   "metadata": {},
   "outputs": [
    {
     "name": "stdout",
     "output_type": "stream",
     "text": [
      "apple\n",
      "{'cherry', 'banana'}\n"
     ]
    }
   ],
   "source": [
    "# 隨機刪除\n",
    "fruits = {\"apple\", \"banana\", \"cherry\"}\n",
    "\n",
    "x = fruits.pop()\n",
    "\n",
    "print(x)\n",
    "\n",
    "print(fruits)"
   ]
  },
  {
   "cell_type": "code",
   "execution_count": 88,
   "metadata": {},
   "outputs": [
    {
     "name": "stdout",
     "output_type": "stream",
     "text": [
      "{1, 2, 4, 5, 6, 7, 8, 9}\n",
      "1\n",
      "{2, 4, 5, 6, 7, 8, 9}\n"
     ]
    }
   ],
   "source": [
    "# 集合是由 list和 tuple组成时,set.pop()是從左删除元素的\n",
    "# list\n",
    "set1 = set([9,4,5,2,6,7,1,8])\n",
    "print(set1)\n",
    "print(set1.pop())\n",
    "print(set1)"
   ]
  },
  {
   "cell_type": "code",
   "execution_count": 89,
   "metadata": {},
   "outputs": [
    {
     "name": "stdout",
     "output_type": "stream",
     "text": [
      "{0, 1, 2, 3, 6, 7, 8, 9}\n",
      "0\n",
      "{1, 2, 3, 6, 7, 8, 9}\n"
     ]
    }
   ],
   "source": [
    "# tuple\n",
    "set1 = set((6,3,1,7,2,9,8,0))\n",
    "print(set1)\n",
    "print(set1.pop())\n",
    "print(set1)"
   ]
  },
  {
   "cell_type": "code",
   "execution_count": 97,
   "metadata": {},
   "outputs": [
    {
     "name": "stdout",
     "output_type": "stream",
     "text": [
      "{1, 2, 3, 4, 5, 6}\n"
     ]
    }
   ],
   "source": [
    "# python 中 list, tuple 類型中的元素,集合是會去掉重複的元素\n",
    "# list\n",
    "list2 = [1,1,2,3,4,5,3,1,4,6,5]\n",
    "set1 = set(list2)\n",
    "print(set1)"
   ]
  },
  {
   "cell_type": "code",
   "execution_count": 94,
   "metadata": {},
   "outputs": [
    {
     "name": "stdout",
     "output_type": "stream",
     "text": [
      "{2, 3, 5, 6}\n"
     ]
    }
   ],
   "source": [
    "# tuple\n",
    "tuple2 = (2,3,5,6,3,5,2,5)\n",
    "set1 = set(tuple2)\n",
    "print(set1)"
   ]
  },
  {
   "cell_type": "code",
   "execution_count": 95,
   "metadata": {},
   "outputs": [
    {
     "name": "stdout",
     "output_type": "stream",
     "text": [
      "{1, 2, 4, 5, 6, 7, 8, 9}\n"
     ]
    }
   ],
   "source": [
    "# 集合對 list和 tuple具有排序(升序)\n",
    "# list\n",
    "set1 = set([9,4,5,2,6,7,1,8])\n",
    "print(set1)"
   ]
  },
  {
   "cell_type": "code",
   "execution_count": 96,
   "metadata": {},
   "outputs": [
    {
     "name": "stdout",
     "output_type": "stream",
     "text": [
      "{1, 2, 4, 5, 6, 7, 8, 9}\n"
     ]
    }
   ],
   "source": [
    "# tuple\n",
    "set2 = set((6,3,1,7,2,9,8,0))\n",
    "print(set1)"
   ]
  },
  {
   "cell_type": "code",
   "execution_count": 99,
   "metadata": {},
   "outputs": [
    {
     "name": "stdout",
     "output_type": "stream",
     "text": [
      "{1, 3}\n",
      "{1, 2, 3, 4, 5, 7, 9}\n"
     ]
    }
   ],
   "source": [
    "a = {1, 2 ,3 ,4}\n",
    "b = {1,3 ,5 ,7, 9}  # 交集\n",
    "print(a & b)\n",
    "print(a | b)        # 連集"
   ]
  },
  {
   "cell_type": "code",
   "execution_count": 100,
   "metadata": {},
   "outputs": [
    {
     "name": "stdout",
     "output_type": "stream",
     "text": [
      "{1, 2, 3, 4, 5}\n"
     ]
    }
   ],
   "source": [
    "# 聯集 1234 35 12345\n",
    "u = set([1,2,3,4])\n",
    "print(u.union([3,5]))"
   ]
  },
  {
   "cell_type": "code",
   "execution_count": 102,
   "metadata": {},
   "outputs": [
    {
     "name": "stdout",
     "output_type": "stream",
     "text": [
      "{1, 3}\n"
     ]
    }
   ],
   "source": [
    "# 交集 1234 35 交集 3\n",
    "print(u.intersection(set([3,5,1])))"
   ]
  },
  {
   "cell_type": "code",
   "execution_count": 103,
   "metadata": {},
   "outputs": [
    {
     "name": "stdout",
     "output_type": "stream",
     "text": [
      "{1, 2, 3}\n"
     ]
    }
   ],
   "source": [
    "# 差集 1234 45 差 123\n",
    "print(u.difference(set([4,5])))"
   ]
  },
  {
   "cell_type": "code",
   "execution_count": 104,
   "metadata": {},
   "outputs": [
    {
     "name": "stdout",
     "output_type": "stream",
     "text": [
      "True\n"
     ]
    }
   ],
   "source": [
    "# 子集合與母集合 1234 是 123 母集合\n",
    "print(u.issuperset(set([1,2,3])))"
   ]
  },
  {
   "cell_type": "code",
   "execution_count": 105,
   "metadata": {},
   "outputs": [
    {
     "name": "stdout",
     "output_type": "stream",
     "text": [
      "False\n"
     ]
    }
   ],
   "source": [
    "# 1234 不是 56 母集合ㄍ\n",
    "print(u.issubset(set([5,6])))"
   ]
  },
  {
   "cell_type": "code",
   "execution_count": 1,
   "metadata": {},
   "outputs": [
    {
     "name": "stdout",
     "output_type": "stream",
     "text": [
      "{1, 3, 5}\n",
      "{1, 2, 3, 4, 5, 7, 9}\n"
     ]
    }
   ],
   "source": [
    "# 交集 聯集\n",
    "a = {1,2,3,4,5}\n",
    "b = {1,3,5,7,9}\n",
    "print(a & b)\n",
    "print(a | b)"
   ]
  }
 ],
 "metadata": {
  "kernelspec": {
   "display_name": "Python 3",
   "language": "python",
   "name": "python3"
  },
  "language_info": {
   "codemirror_mode": {
    "name": "ipython",
    "version": 3
   },
   "file_extension": ".py",
   "mimetype": "text/x-python",
   "name": "python",
   "nbconvert_exporter": "python",
   "pygments_lexer": "ipython3",
   "version": "3.8.5"
  }
 },
 "nbformat": 4,
 "nbformat_minor": 4
}
