{
 "cells": [
  {
   "cell_type": "markdown",
   "metadata": {},
   "source": [
    "# input a character,  detect if this character is uppercase/lowercase/number or special character. \n",
    "## if character is uppercase, print \"Uppercase character.\"\n",
    "## if character is lowercase, print \"Lowercase character.\"\n",
    "## if character is digit, print \"digit.\"\n",
    "## if character is special character, print \"Special characters.\"\n",
    "\n",
    "\n",
    "## hint: use ord()"
   ]
  },
  {
   "cell_type": "code",
   "execution_count": 5,
   "metadata": {},
   "outputs": [
    {
     "name": "stdout",
     "output_type": "stream",
     "text": [
      "please enter a char: @\n",
      "Special characters.\n"
     ]
    }
   ],
   "source": [
    "ch = input('please enter a char: ')\n",
    "\n",
    "## write your code here"
   ]
  },
  {
   "cell_type": "code",
   "execution_count": 21,
   "metadata": {},
   "outputs": [
    {
     "name": "stdout",
     "output_type": "stream",
     "text": [
      "please enter a char:  \n",
      "Special characters\n"
     ]
    }
   ],
   "source": [
    "ch = input('please enter a char: ')\n",
    "if   ord('A') >= ord(ch) and ord('Z') <= ord(ch) :\n",
    "    print('Uppercase character')\n",
    "    \n",
    "elif ord('a') >= ord(ch) and ord('z') <= ord(ch) :\n",
    "    print('Lowercase character')\n",
    "    \n",
    "elif ord('9') >= ord(ch) and ord('0') <= ord(ch) :\n",
    "    print('digit')\n",
    "    \n",
    "elif ord(' ') <= ord(ch) and ord('/') >= ord(ch) :\n",
    "    print('Special characters')\n"
   ]
  },
  {
   "cell_type": "code",
   "execution_count": 19,
   "metadata": {},
   "outputs": [
    {
     "data": {
      "text/plain": [
       "47"
      ]
     },
     "execution_count": 19,
     "metadata": {},
     "output_type": "execute_result"
    }
   ],
   "source": [
    "ord('/')"
   ]
  },
  {
   "cell_type": "code",
   "execution_count": null,
   "metadata": {},
   "outputs": [],
   "source": [
    "ch = input('please enter a char: ')\n",
    "if ord(ch) >= ord('A') and ord(ch) <= ord('Z'):\n",
    "    print('Uppercase character.')\n",
    "    \n",
    "elif ord(ch) >= ord('a') and ord(ch) <= ord('z'):\n",
    "    print('Lowercase character.')\n",
    "    \n",
    "elif ord(ch) >= ord('0') and ord(ch) <= ord('9'):\n",
    "    print('Digit.')\n",
    "    \n",
    "else:\n",
    "    print('Special characters.')"
   ]
  }
 ],
 "metadata": {
  "kernelspec": {
   "display_name": "Python 3",
   "language": "python",
   "name": "python3"
  },
  "language_info": {
   "codemirror_mode": {
    "name": "ipython",
    "version": 3
   },
   "file_extension": ".py",
   "mimetype": "text/x-python",
   "name": "python",
   "nbconvert_exporter": "python",
   "pygments_lexer": "ipython3",
   "version": "3.8.5"
  }
 },
 "nbformat": 4,
 "nbformat_minor": 4
}
