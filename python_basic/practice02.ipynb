{
 "cells": [
  {
   "cell_type": "markdown",
   "metadata": {},
   "source": [
    "# Please do temperature conversion. Given a Celsius temperature, please change it to Fahrenheit"
   ]
  },
  {
   "cell_type": "code",
   "execution_count": 5,
   "metadata": {},
   "outputs": [
    {
     "name": "stdout",
     "output_type": "stream",
     "text": [
      "5\n",
      "celsius is: 5\n"
     ]
    }
   ],
   "source": [
    "c = int(input())\n",
    "print('celsius is: ', end='')\n",
    "print(c)\n",
    "\n",
    "## write your code here\n",
    "# C = (F - 32) * 5/9\n",
    "# F = 9/5 * C + 32"
   ]
  },
  {
   "cell_type": "code",
   "execution_count": 1,
   "metadata": {},
   "outputs": [
    {
     "name": "stdout",
     "output_type": "stream",
     "text": [
      "3\n",
      "When celsius is: 3.0  Fahrenheit is: 37.4\n"
     ]
    }
   ],
   "source": [
    "C = float(input())\n",
    "F = 9/5 * C +32\n",
    "print('When celsius is: {}'.format(C),end='')\n",
    "print('  Fahrenheit is: {}'.format(F))"
   ]
  },
  {
   "cell_type": "code",
   "execution_count": 2,
   "metadata": {},
   "outputs": [
    {
     "name": "stdout",
     "output_type": "stream",
     "text": [
      "3\n",
      "celsius is: 3\n",
      "fahrenheit is: 37.4\n"
     ]
    }
   ],
   "source": [
    "c = int(input())\n",
    "print('celsius is: ', end='')\n",
    "print(c)\n",
    "\n",
    "f = (9/5)*c + 32\n",
    "print('fahrenheit is: ',end='')\n",
    "print(f)"
   ]
  },
  {
   "cell_type": "code",
   "execution_count": null,
   "metadata": {},
   "outputs": [],
   "source": []
  }
 ],
 "metadata": {
  "kernelspec": {
   "display_name": "Python 3",
   "language": "python",
   "name": "python3"
  },
  "language_info": {
   "codemirror_mode": {
    "name": "ipython",
    "version": 3
   },
   "file_extension": ".py",
   "mimetype": "text/x-python",
   "name": "python",
   "nbconvert_exporter": "python",
   "pygments_lexer": "ipython3",
   "version": "3.8.3"
  }
 },
 "nbformat": 4,
 "nbformat_minor": 4
}
