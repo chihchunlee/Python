{
 "cells": [
  {
   "cell_type": "markdown",
   "metadata": {},
   "source": [
    "# input a year (ex: 2020) and then check it is leap year or not."
   ]
  },
  {
   "cell_type": "code",
   "execution_count": 6,
   "metadata": {},
   "outputs": [
    {
     "name": "stdout",
     "output_type": "stream",
     "text": [
      "please enter year in YYYY: 2021\n",
      "2021 is not leap year\n"
     ]
    }
   ],
   "source": [
    "# Nested if statement\n",
    "year = input('please enter year in YYYY: ')\n",
    "r4 = int(year)%4\n",
    "r100 = int(year)%100\n",
    "r400 = int(year)%400\n",
    "\n",
    "## write your code here\n"
   ]
  },
  {
   "cell_type": "markdown",
   "metadata": {},
   "source": [
    "1.如果年份被4 整除，則移至步驟2。 否則，請跳至步驟5。\n",
    "\n",
    "2.如果年份被100 整除，則移至步驟3。 否則，請跳至步驟4。\n",
    "\n",
    "3.如果年份被400 整除，則移至步驟4。 否則，請跳至步驟5。\n",
    "\n",
    "4.該年份為閏年(有366 天)。\n",
    "\n",
    "5.該年分不是閏年(有365 天)。"
   ]
  },
  {
   "cell_type": "code",
   "execution_count": 6,
   "metadata": {},
   "outputs": [
    {
     "name": "stdout",
     "output_type": "stream",
     "text": [
      "please enter year in YYYY: 2024\n",
      "2024 is leap year\n"
     ]
    }
   ],
   "source": [
    "year = input('please enter year in YYYY: ')\n",
    "r4 = int(year)%4\n",
    "r100 = int(year)%100\n",
    "r400 = int(year)%400\n",
    "\n",
    "if r4 == 0 :\n",
    "    if r100 == 0:\n",
    "        if r400 == 0:\n",
    "            print(year +' is leap year')\n",
    "        else:\n",
    "            print(year+' is not leap year')\n",
    "    else:\n",
    "        print(year+' is leap year') \n",
    "else:\n",
    "    print(year + '  is not leap year')"
   ]
  },
  {
   "cell_type": "code",
   "execution_count": null,
   "metadata": {},
   "outputs": [],
   "source": []
  }
 ],
 "metadata": {
  "kernelspec": {
   "display_name": "Python 3",
   "language": "python",
   "name": "python3"
  },
  "language_info": {
   "codemirror_mode": {
    "name": "ipython",
    "version": 3
   },
   "file_extension": ".py",
   "mimetype": "text/x-python",
   "name": "python",
   "nbconvert_exporter": "python",
   "pygments_lexer": "ipython3",
   "version": "3.8.5"
  }
 },
 "nbformat": 4,
 "nbformat_minor": 4
}
