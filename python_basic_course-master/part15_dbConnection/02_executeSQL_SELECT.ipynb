{
 "cells": [
  {
   "cell_type": "markdown",
   "metadata": {},
   "source": [
    "### Before coding\n",
    "Execute the following SQL code in your MySQL oy any other RDB.\n",
    "```sql\n",
    "CREATE SCHEMA IF NOT EXISTS `TESTDB` DEFAULT CHARACTER SET utf8mb4 ;\n",
    "\n",
    "CREATE TABLE IF NOT EXISTS `TESTDB`.`Staff` (\n",
    "  `ID` VARCHAR(10) NOT NULL COMMENT 'Employee ID',\n",
    "  `Name` VARCHAR(45) NOT NULL COMMENT 'Employee name',\n",
    "  `DeptId` VARCHAR(10) NOT NULL COMMENT 'Department ID',\n",
    "  `Age` INT NULL,\n",
    "  `Gender` VARCHAR(3) NULL,\n",
    "  `Salary` INT NULL,\n",
    "  `recordDt` DATETIME NOT NULL COMMENT 'The date and time that this information be recorded',\n",
    "  PRIMARY KEY (`ID`))\n",
    "DEFAULT CHARACTER SET = utf8mb4;\n",
    "```\n",
    "\n",
    "### Then we have the column\n",
    "- ID, Name, DeptId, Age, Gender, Salary, recordDt\n",
    "\n",
    "### Try to insert the following data\n",
    "\n",
    "| ID  |  Name | DeptId| Age | Gender | Salary |\n",
    "| --- |  ---  |  ---  | --- |  ---   | ------ |\n",
    "| 001 | Mike  | 002   | 45  |   M    | 60000  |\n",
    "| 002 | Judy  | 002   | 30  |   F    | 48000  |\n",
    "| 003 | Allen | 001   | 22  |   M    | 50000  |\n",
    "| 004 | Tom   | 002   | 47  |   M    | 47000  |\n",
    "| 005 | Jack  | 003   | 36  |   M    | 52000  |\n",
    "| 006 | Abby  | 002   | 24  |   F    | 45000  |\n",
    "| 007 | Trump | 001   | 80  |   M    | 80000  |\n",
    "| 008 | Marry | 003   | 29  |   F    | 87000  |"
   ]
  },
  {
   "cell_type": "code",
   "execution_count": 1,
   "metadata": {},
   "outputs": [
    {
     "name": "stdout",
     "output_type": "stream",
     "text": [
      "Successfully connected!\n"
     ]
    }
   ],
   "source": [
    "# 連接資料庫\n",
    "import pymysql\n",
    "\n",
    "host = 'localhost'\n",
    "port = 3306\n",
    "user = 'root'\n",
    "passwd = 'root'\n",
    "db = 'TESTDB'\n",
    "charset = 'utf8mb4'\n",
    "\n",
    "conn = pymysql.connect(host=host, port=port, user=user, passwd=passwd, db=db, charset=charset)\n",
    "print('Successfully connected!')\n",
    "\n",
    "cursor = conn.cursor()"
   ]
  },
  {
   "cell_type": "code",
   "execution_count": 2,
   "metadata": {},
   "outputs": [
    {
     "data": {
      "text/plain": [
       "2"
      ]
     },
     "execution_count": 2,
     "metadata": {},
     "output_type": "execute_result"
    }
   ],
   "source": [
    "# 試著將資料表中的資料取出\n",
    "# 先寫好 SQL 語法\n",
    "sql = \"\"\"\n",
    "SELECT * FROM Staff;\n",
    "\"\"\"\n",
    "\n",
    "# 將指令放進 cursor 物件，並執行\n",
    "cursor.execute(sql)"
   ]
  },
  {
   "cell_type": "code",
   "execution_count": 3,
   "metadata": {},
   "outputs": [
    {
     "data": {
      "text/plain": [
       "(('001',\n",
       "  'Mike',\n",
       "  '002',\n",
       "  45,\n",
       "  'M',\n",
       "  60000,\n",
       "  datetime.datetime(2020, 4, 24, 14, 59, 57)),\n",
       " ('002',\n",
       "  'Judy',\n",
       "  '002',\n",
       "  30,\n",
       "  'F',\n",
       "  48000,\n",
       "  datetime.datetime(2020, 10, 13, 21, 39, 13)))"
      ]
     },
     "execution_count": 3,
     "metadata": {},
     "output_type": "execute_result"
    }
   ],
   "source": [
    "# 將查詢結果取出\n",
    "data = cursor.fetchall()\n",
    "data"
   ]
  },
  {
   "cell_type": "code",
   "execution_count": 4,
   "metadata": {},
   "outputs": [
    {
     "data": {
      "text/plain": [
       "'2020-10-13 21:39:13'"
      ]
     },
     "execution_count": 4,
     "metadata": {},
     "output_type": "execute_result"
    }
   ],
   "source": [
    "# 從資料庫將 datetime 形態的資料取出後，在 Python 中會變成 datetime 物件\n",
    "# 將 datetime 物件轉為字串\n",
    "data[1][6].strftime('%Y-%m-%d %H:%M:%S')"
   ]
  },
  {
   "cell_type": "code",
   "execution_count": 5,
   "metadata": {},
   "outputs": [],
   "source": [
    "# 關閉連線\n",
    "cursor.close()\n",
    "conn.close()"
   ]
  },
  {
   "cell_type": "code",
   "execution_count": null,
   "metadata": {},
   "outputs": [],
   "source": []
  }
 ],
 "metadata": {
  "kernelspec": {
   "display_name": "Python 3",
   "language": "python",
   "name": "python3"
  },
  "language_info": {
   "codemirror_mode": {
    "name": "ipython",
    "version": 3
   },
   "file_extension": ".py",
   "mimetype": "text/x-python",
   "name": "python",
   "nbconvert_exporter": "python",
   "pygments_lexer": "ipython3",
   "version": "3.7.0"
  }
 },
 "nbformat": 4,
 "nbformat_minor": 4
}
