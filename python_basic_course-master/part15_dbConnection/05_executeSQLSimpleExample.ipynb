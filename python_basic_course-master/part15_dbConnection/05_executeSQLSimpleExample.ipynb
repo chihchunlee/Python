{
 "cells": [
  {
   "cell_type": "markdown",
   "metadata": {},
   "source": [
    "### Before coding\n",
    "Execute the following SQL code in your MySQL oy any other RDB.\n",
    "```sql\n",
    "CREATE SCHEMA IF NOT EXISTS `TESTDB` DEFAULT CHARACTER SET utf8mb4 ;\n",
    "\n",
    "CREATE TABLE IF NOT EXISTS `TESTDB`.`Staff` (\n",
    "  `ID` VARCHAR(10) NOT NULL COMMENT 'Employee ID',\n",
    "  `Name` VARCHAR(45) NOT NULL COMMENT 'Employee name',\n",
    "  `DeptId` VARCHAR(10) NOT NULL COMMENT 'Department ID',\n",
    "  `Age` INT NULL,\n",
    "  `Gender` VARCHAR(3) NULL,\n",
    "  `Salary` INT NULL,\n",
    "  `recordDt` DATETIME NOT NULL COMMENT 'The date and time that this information be recorded',\n",
    "  PRIMARY KEY (`ID`))\n",
    "DEFAULT CHARACTER SET = utf8mb4;\n",
    "```\n",
    "\n",
    "### Then we have the column\n",
    "- ID, Name, DeptId, Age, Gender, Salary, recordDt\n",
    "\n",
    "### To do:\n",
    "#### 1. Try to insert the following data first, data can be found in Staff.json\n",
    "#### 2. Raise 10% of the salary and update the data to DB\n",
    "\n",
    "| ID  |  Name | DeptId| Age | Gender | Salary |\n",
    "| --- |  ---  |  ---  | --- |  ---   | ------ |\n",
    "| 001 | Mike  | 002   | 45  |   M    | 60000  |\n",
    "| 002 | Judy  | 002   | 30  |   F    | 48000  |\n",
    "| 003 | Allen | 001   | 22  |   M    | 50000  |\n",
    "| 004 | Tom   | 002   | 47  |   M    | 47000  |\n",
    "| 005 | Jack  | 003   | 36  |   M    | 52000  |\n",
    "| 006 | Abby  | 002   | 24  |   F    | 45000  |\n",
    "| 007 | Trump | 001   | 80  |   M    | 80000  |\n",
    "| 008 | Marry | 003   | 29  |   F    | 87000  |\n"
   ]
  },
  {
   "cell_type": "code",
   "execution_count": 1,
   "metadata": {},
   "outputs": [
    {
     "name": "stdout",
     "output_type": "stream",
     "text": [
      "Successfully connected!\n"
     ]
    }
   ],
   "source": [
    "# 連接資料庫\n",
    "import pymysql\n",
    "\n",
    "host = 'localhost'\n",
    "port = 3306\n",
    "user = 'root'\n",
    "passwd = 'root'\n",
    "db = 'TESTDB'\n",
    "charset = 'utf8mb4'\n",
    "\n",
    "conn = pymysql.connect(host=host, port=port, user=user, passwd=passwd, db=db, charset=charset)\n",
    "print('Successfully connected!')\n",
    "\n",
    "cursor = conn.cursor()"
   ]
  },
  {
   "cell_type": "code",
   "execution_count": 2,
   "metadata": {
    "scrolled": true
   },
   "outputs": [
    {
     "data": {
      "text/plain": [
       "{'001': {'ID': '001',\n",
       "  'Name': 'Mike',\n",
       "  'DeptId': '002',\n",
       "  'Age': '45',\n",
       "  'Gender': 'M',\n",
       "  'Salary': '60000'},\n",
       " '002': {'ID': '002',\n",
       "  'Name': 'Judy',\n",
       "  'DeptId': '002',\n",
       "  'Age': '30',\n",
       "  'Gender': 'F',\n",
       "  'Salary': '48000'},\n",
       " '003': {'ID': '003',\n",
       "  'Name': 'Allen',\n",
       "  'DeptId': '001',\n",
       "  'Age': '22',\n",
       "  'Gender': 'M',\n",
       "  'Salary': '50000'},\n",
       " '004': {'ID': '004',\n",
       "  'Name': 'Tom',\n",
       "  'DeptId': '002',\n",
       "  'Age': '47',\n",
       "  'Gender': 'M',\n",
       "  'Salary': '47000'},\n",
       " '005': {'ID': '005',\n",
       "  'Name': 'Jack',\n",
       "  'DeptId': '003',\n",
       "  'Age': '36',\n",
       "  'Gender': 'M',\n",
       "  'Salary': '52000'},\n",
       " '006': {'ID': '006',\n",
       "  'Name': 'Abby',\n",
       "  'DeptId': '002',\n",
       "  'Age': '24',\n",
       "  'Gender': 'F',\n",
       "  'Salary': '45000'},\n",
       " '007': {'ID': '007',\n",
       "  'Name': 'Trump',\n",
       "  'DeptId': '001',\n",
       "  'Age': '80',\n",
       "  'Gender': 'M',\n",
       "  'Salary': '80000'},\n",
       " '008': {'ID': '008',\n",
       "  'Name': 'Marry',\n",
       "  'DeptId': '003',\n",
       "  'Age': '29',\n",
       "  'Gender': 'F',\n",
       "  'Salary': '87000'}}"
      ]
     },
     "execution_count": 2,
     "metadata": {},
     "output_type": "execute_result"
    }
   ],
   "source": [
    "import json\n",
    "import time\n",
    "\n",
    "path = 'Staff.json'\n",
    "with open(path, 'r', encoding='utf-8') as f:\n",
    "    jsondata = json.loads(f.read())\n",
    "\n",
    "jsondata"
   ]
  },
  {
   "cell_type": "code",
   "execution_count": 3,
   "metadata": {},
   "outputs": [],
   "source": [
    "# 先寫好 SQL 語法\n",
    "# 並將語法中會不斷改變的部分挖空 ( %s )\n",
    "sql_insert = \"\"\"\n",
    "INSERT INTO Staff (ID, Name, DeptId, Age, Gender, Salary, recordDt)\n",
    "VALUES (%s, %s, %s, %s, %s, %s, %s);\n",
    "\"\"\""
   ]
  },
  {
   "cell_type": "code",
   "execution_count": 4,
   "metadata": {},
   "outputs": [
    {
     "data": {
      "text/plain": [
       "[('001', 'Mike', '002', '45', 'M', '60000', '2020-10-13 21:41:49'),\n",
       " ('002', 'Judy', '002', '30', 'F', '48000', '2020-10-13 21:41:49'),\n",
       " ('003', 'Allen', '001', '22', 'M', '50000', '2020-10-13 21:41:49'),\n",
       " ('004', 'Tom', '002', '47', 'M', '47000', '2020-10-13 21:41:49'),\n",
       " ('005', 'Jack', '003', '36', 'M', '52000', '2020-10-13 21:41:49'),\n",
       " ('006', 'Abby', '002', '24', 'F', '45000', '2020-10-13 21:41:49'),\n",
       " ('007', 'Trump', '001', '80', 'M', '80000', '2020-10-13 21:41:49'),\n",
       " ('008', 'Marry', '003', '29', 'F', '87000', '2020-10-13 21:41:49')]"
      ]
     },
     "execution_count": 4,
     "metadata": {},
     "output_type": "execute_result"
    }
   ],
   "source": [
    "# 整理 jsondata 成可 insert 進資料庫的樣子，格式如下\n",
    "'''\n",
    "[('001', 'Mike', '002', '45', 'M', '60000', '2020-10-13 21:41:49'),\n",
    " ('002', 'Judy', '002', '30', 'F', '48000', '2020-10-13 21:41:49'),\n",
    " ('003', 'Allen', '001', '22', 'M', '50000', '2020-10-13 21:41:49'),\n",
    " ('004', 'Tom', '002', '47', 'M', '47000', '2020-10-13 21:41:49'),\n",
    " ('005', 'Jack', '003', '36', 'M', '52000', '2020-10-13 21:41:49'),\n",
    " ('006', 'Abby', '002', '24', 'F', '45000', '2020-10-13 21:41:49'),\n",
    " ('007', 'Trump', '001', '80', 'M', '80000', '2020-10-13 21:41:49'),\n",
    " ('008', 'Marry', '003', '29', 'F', '87000', '2020-10-13 21:41:49')]\n",
    "'''\n",
    "import time\n",
    "t = time.strftime('%Y-%m-%d %H:%M:%S', time.localtime())\n",
    "values = [tuple(jsondata[d].values()) + (t,) for d in jsondata]\n",
    "values"
   ]
  },
  {
   "cell_type": "code",
   "execution_count": 5,
   "metadata": {},
   "outputs": [
    {
     "name": "stdout",
     "output_type": "stream",
     "text": [
      "新增資料筆數: 8\n"
     ]
    }
   ],
   "source": [
    "# 將 SQL 批量執行\n",
    "print('新增資料筆數:', cursor.executemany(sql_insert, values))\n",
    "\n",
    "# Commit 並檢查資料是否存入資料庫\n",
    "conn.commit()"
   ]
  },
  {
   "cell_type": "code",
   "execution_count": 6,
   "metadata": {},
   "outputs": [],
   "source": [
    "# 關閉連線\n",
    "cursor.close()\n",
    "conn.close()"
   ]
  },
  {
   "cell_type": "code",
   "execution_count": null,
   "metadata": {},
   "outputs": [],
   "source": []
  }
 ],
 "metadata": {
  "kernelspec": {
   "display_name": "Python 3",
   "language": "python",
   "name": "python3"
  },
  "language_info": {
   "codemirror_mode": {
    "name": "ipython",
    "version": 3
   },
   "file_extension": ".py",
   "mimetype": "text/x-python",
   "name": "python",
   "nbconvert_exporter": "python",
   "pygments_lexer": "ipython3",
   "version": "3.7.0"
  }
 },
 "nbformat": 4,
 "nbformat_minor": 4
}
